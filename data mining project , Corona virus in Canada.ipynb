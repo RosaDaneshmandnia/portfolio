{
  "cells": [
    {
      "cell_type": "markdown",
      "metadata": {
        "id": "ACbH7qpLoQ6j"
      },
      "source": [
        "# **Install libraries**"
      ]
    },
    {
      "cell_type": "code",
      "execution_count": null,
      "metadata": {
        "id": "hLaM3JmRJGKT"
      },
      "outputs": [],
      "source": [
        "from google.colab import drive\n",
        "drive.mount('/content/drive')"
      ]
    },
    {
      "cell_type": "markdown",
      "metadata": {
        "id": "zUyajWOeofSf"
      },
      "source": [
        "Install necessary libraries: pmdarima, neuralprophet and holidays"
      ]
    },
    {
      "cell_type": "code",
      "execution_count": null,
      "metadata": {
        "id": "LATlpMaZiPwS"
      },
      "outputs": [],
      "source": [
        "!pip install pmdarima"
      ]
    },
    {
      "cell_type": "code",
      "execution_count": null,
      "metadata": {
        "id": "hsVqR9eyktVj"
      },
      "outputs": [],
      "source": [
        "!pip install neuralprophet"
      ]
    },
    {
      "cell_type": "code",
      "execution_count": null,
      "metadata": {
        "id": "6lnD4z32kt8M"
      },
      "outputs": [],
      "source": [
        "!pip install holidays"
      ]
    },
    {
      "cell_type": "markdown",
      "metadata": {
        "id": "HVV9ASgaoaQX"
      },
      "source": [
        "# **Load libraries**"
      ]
    },
    {
      "cell_type": "code",
      "execution_count": null,
      "metadata": {
        "id": "sCkk31MekwzS"
      },
      "outputs": [],
      "source": [
        "#imports\n",
        "import numpy as np\n",
        "import pandas as pd\n",
        "from matplotlib import pyplot as plt\n",
        "import matplotlib.ticker as ticker\n",
        "import seaborn as sns\n",
        "import datetime as dt\n",
        "from scipy import stats\n",
        "import seaborn as sns\n",
        "import plotly.express as px\n",
        "import plotly.graph_objects as go\n",
        "import plotly.figure_factory as ff\n",
        "from plotly.subplots import make_subplots\n",
        "from sklearn.metrics import mean_squared_error\n",
        "import plotly as py\n",
        "\n",
        "%matplotlib inline\n",
        "import math\n",
        "import random\n",
        "from datetime import timedelta\n",
        "\n",
        "import calendar\n",
        "\n",
        "import holidays\n",
        "\n",
        "import fbprophet\n",
        "from fbprophet import Prophet\n",
        "\n",
        "from neuralprophet import NeuralProphet\n",
        "\n",
        "from statsmodels.tsa.stattools import adfuller\n",
        "from statsmodels.graphics.tsaplots import plot_acf, plot_pacf\n",
        "\n",
        "import pmdarima as pm\n",
        "from statsmodels.tsa.statespace.sarimax import SARIMAX\n",
        "\n",
        "import warnings\n",
        "warnings.filterwarnings('ignore')\n",
        "\n",
        "seed=42\n",
        "#color pallette\n",
        "cnf = '#393e46'\n",
        "dth = 'ff2e63'\n",
        "rec = '#21bf73'\n",
        "act = '#fe9801'\n",
        "plt.style.use(\"seaborn-whitegrid\")\n",
        "plt.rc(\"figure\", autolayout=True)\n",
        "plt.rc(\"axes\", labelweight=\"bold\", labelsize=\"large\", titleweight=\"bold\", titlesize=14, titlepad=10)"
      ]
    },
    {
      "cell_type": "markdown",
      "metadata": {
        "id": "p0mPOZnGpGMu"
      },
      "source": [
        "# Dataset Source & Info"
      ]
    },
    {
      "cell_type": "code",
      "execution_count": null,
      "metadata": {
        "id": "X7PxF1b3pInM"
      },
      "outputs": [],
      "source": [
        "df=pd.read_csv('https://covid.ourworldindata.org/data/owid-covid-data.csv',encoding='utf-8')\n",
        "df"
      ]
    },
    {
      "cell_type": "code",
      "execution_count": null,
      "metadata": {
        "id": "G16pR1M1pPe4"
      },
      "outputs": [],
      "source": [
        "df1 = pd.read_csv('/content/drive/MyDrive/covid_19_data_cleaned.csv', parse_dates = ['Date'])\n",
        "\n",
        "country_daywise = pd.read_csv('/content/drive/MyDrive/country_daywise.csv', parse_dates = ['Date'])\n",
        "countrywise = pd.read_csv('/content/drive/MyDrive/countrywise.csv')\n",
        "daywise = pd.read_csv('/content/drive/MyDrive/daywise.csv', parse_dates = ['Date'])\n"
      ]
    },
    {
      "cell_type": "markdown",
      "metadata": {
        "id": "mrc1DlSXphgp"
      },
      "source": [
        "#**Data Cleaning And Preprettion**"
      ]
    },
    {
      "cell_type": "code",
      "execution_count": null,
      "metadata": {
        "id": "PKIxxpyupmhX"
      },
      "outputs": [],
      "source": [
        "df.info()"
      ]
    },
    {
      "cell_type": "code",
      "execution_count": null,
      "metadata": {
        "id": "vv5U0UquptSj"
      },
      "outputs": [],
      "source": [
        "#select columns for analysis\n",
        "\n",
        "df=df.loc[:,['iso_code', 'continent', 'location', 'date',\n",
        "          'total_cases', 'new_cases', 'total_deaths', 'new_deaths',\n",
        "          'icu_patients','hosp_patients',\n",
        "          'new_tests', 'total_tests',\n",
        "          'total_vaccinations','people_vaccinated', 'people_fully_vaccinated','new_vaccinations','population']\n",
        "      ]\n",
        "\n",
        "#Confirmed cases ['total_cases', 'new_cases']\n",
        "#Confirmed deaths['total_deaths', 'new_deaths']\n",
        "#Hospital & ICU ['icu_patients','hosp_patients']\n",
        "#Tests & positivity ['new_tests', 'total_tests','positive_rate']\n",
        "#Vaccinations ['total_vaccinations','people_vaccinated', 'people_fully_vaccinated','new_vaccinations']\n",
        "#Others ['iso_code', 'continent', 'location', 'date','population']"
      ]
    },
    {
      "cell_type": "code",
      "execution_count": null,
      "metadata": {
        "id": "9Lf3c4hXpu0u"
      },
      "outputs": [],
      "source": [
        "#set date as datetime\n",
        "df.date=df.date.astype(np.datetime64)"
      ]
    },
    {
      "cell_type": "code",
      "execution_count": null,
      "metadata": {
        "id": "_SUOB3HGpwBX"
      },
      "outputs": [],
      "source": [
        "#Check missing values\n",
        "df.isna().sum().sort_values(ascending=False)"
      ]
    },
    {
      "cell_type": "code",
      "execution_count": null,
      "metadata": {
        "id": "6OxrpyRSpxV2"
      },
      "outputs": [],
      "source": [
        "df[df.continent.isna()].location.unique()"
      ]
    },
    {
      "cell_type": "code",
      "execution_count": null,
      "metadata": {
        "id": "KIR4xajKpzhI"
      },
      "outputs": [],
      "source": [
        "#fill continent NAN with corresponded location values\n",
        "df['continent']=df['continent'].fillna(df['location'])"
      ]
    },
    {
      "cell_type": "markdown",
      "metadata": {
        "id": "sLH0L02_qUF7"
      },
      "source": [
        "Find out what countries missing population **data**"
      ]
    },
    {
      "cell_type": "code",
      "execution_count": null,
      "metadata": {
        "id": "9iVubXaGp0T5"
      },
      "outputs": [],
      "source": [
        "#find out what countries missing population data\n",
        "df[df.population.isna()].location.unique()"
      ]
    },
    {
      "cell_type": "code",
      "execution_count": null,
      "metadata": {
        "id": "ysNvYqCmp1Qi"
      },
      "outputs": [],
      "source": [
        "df.groupby('location')['population'].get_group('Northern Cyprus').sum()"
      ]
    },
    {
      "cell_type": "code",
      "execution_count": null,
      "metadata": {
        "id": "d5m4ByNep2KT"
      },
      "outputs": [],
      "source": [
        "df.groupby('location')['population'].get_group('International').sum()"
      ]
    },
    {
      "cell_type": "markdown",
      "metadata": {
        "id": "5NSvGsK6q8x0"
      },
      "source": [
        "Both of International, Northern Cyprus show population of 0 and most of data is missing.\n",
        "So we will drop both International, Northern Cyprus data."
      ]
    },
    {
      "cell_type": "code",
      "execution_count": null,
      "metadata": {
        "id": "4Xh1oI4wp3ca"
      },
      "outputs": [],
      "source": [
        "df[df.location.str.contains('Northern Cyprus')].info()\n",
        "df[df.location.str.contains('Northern Cyprus')].isna().sum()"
      ]
    },
    {
      "cell_type": "code",
      "execution_count": null,
      "metadata": {
        "id": "wfHvrCC_p4z-"
      },
      "outputs": [],
      "source": [
        "df.population = df.population.dropna()"
      ]
    },
    {
      "cell_type": "code",
      "execution_count": null,
      "metadata": {
        "id": "LumD3p_WrcZ3"
      },
      "outputs": [],
      "source": [
        "df=df.dropna(subset=['population'])"
      ]
    },
    {
      "cell_type": "markdown",
      "metadata": {
        "id": "7BaFw-6nriYW"
      },
      "source": [
        "**Dealing with the NaN data**"
      ]
    },
    {
      "cell_type": "markdown",
      "metadata": {
        "id": "fzU5-d0Jrve4"
      },
      "source": [
        "\n",
        "1.   For cumulative data --> group by location, fill nan with ffill method first then fill the rest with 0: `total_cases`, `total_deaths`, `total_tests`, `tests_units`, `total_vaccinations`, `people_vaccinated`, `people_fully_vaccinated`,`icu_patients`, `hosp_patients`\n",
        "2.   For non-cumulative data --> fill nan with the difference b/t 2 rows `new_cases`, `new_deaths`,`new_tests`,`new_vaccinations`\n"
      ]
    },
    {
      "cell_type": "code",
      "execution_count": null,
      "metadata": {
        "id": "liZIryiWrda7"
      },
      "outputs": [],
      "source": [
        " #For cumulative data --> ffill then fillna(0)\n",
        " df[['total_cases', 'total_deaths', 'icu_patients','hosp_patients','total_tests','total_vaccinations','people_vaccinated', 'people_fully_vaccinated']]= \\\n",
        " df.groupby('location')[['total_cases', 'total_deaths', 'icu_patients','hosp_patients','total_tests','total_vaccinations','people_vaccinated', 'people_fully_vaccinated']]\\\n",
        " .fillna(method='ffill').fillna(0)"
      ]
    },
    {
      "cell_type": "code",
      "execution_count": null,
      "metadata": {
        "id": "S5bf84UVsZOp"
      },
      "outputs": [],
      "source": [
        "df.new_cases=df.groupby('location')['new_cases'].fillna(df.groupby('location')['total_cases'].diff(periods=1)).fillna(0)\n",
        "df.new_deaths=df.groupby('location')['new_deaths'].fillna(df.groupby('location')['total_deaths'].diff(periods=1)).fillna(0)\n",
        "df.new_tests=df.groupby('location')['new_tests'].fillna(df.groupby('location')['total_tests'].diff(periods=1)).fillna(0)\n",
        "df.new_vaccinations=df.groupby('location')['new_vaccinations'].fillna(df.groupby('location')['total_vaccinations'].diff(periods=1)).fillna(0)\n",
        "df1['Province/State'] = df1['Province/State'].fillna(\"\")"
      ]
    },
    {
      "cell_type": "code",
      "execution_count": null,
      "metadata": {
        "id": "1m13W7IhtljD"
      },
      "outputs": [],
      "source": [
        "confirmed = df1.groupby('Date').sum()['Confirmed'].reset_index()\n",
        "recovered = df1.groupby('Date').sum()['Recovered'].reset_index()\n",
        "deaths = df1.groupby('Date').sum()['Deaths'].reset_index()"
      ]
    },
    {
      "cell_type": "code",
      "execution_count": null,
      "metadata": {
        "id": "ejAe0Ym1toGm"
      },
      "outputs": [],
      "source": [
        "df1.isnull().sum()"
      ]
    },
    {
      "cell_type": "code",
      "execution_count": null,
      "metadata": {
        "id": "q2GwSgDNsaFh"
      },
      "outputs": [],
      "source": [
        "df.isna().sum().sort_values(ascending=False)"
      ]
    },
    {
      "cell_type": "code",
      "execution_count": null,
      "metadata": {
        "id": "mxpkrM9YtubY"
      },
      "outputs": [],
      "source": [
        "df1.query('Country == \"US\"')"
      ]
    },
    {
      "cell_type": "markdown",
      "metadata": {
        "id": "Z-jmkSIesjCj"
      },
      "source": [
        "**Checking duplicates**"
      ]
    },
    {
      "cell_type": "code",
      "execution_count": null,
      "metadata": {
        "id": "9K_rdAepsfb3"
      },
      "outputs": [],
      "source": [
        "df.duplicated().sum()\n",
        "#no duplicates found"
      ]
    },
    {
      "cell_type": "code",
      "execution_count": null,
      "metadata": {
        "id": "I3HXI4C_sx9N"
      },
      "outputs": [],
      "source": [
        "df.head()"
      ]
    },
    {
      "cell_type": "code",
      "execution_count": null,
      "metadata": {
        "id": "oaH6nk1LstUn"
      },
      "outputs": [],
      "source": [
        "#set numberformatting\n",
        "pd.options.display.float_format = '{:,.2f}'.format"
      ]
    },
    {
      "cell_type": "code",
      "execution_count": null,
      "metadata": {
        "id": "aLHELrEQstkq"
      },
      "outputs": [],
      "source": [
        "df1.head()"
      ]
    },
    {
      "cell_type": "code",
      "execution_count": null,
      "metadata": {
        "id": "TOD53elDBUAn"
      },
      "outputs": [],
      "source": [
        "world_comparasion=df.groupby('location')['continent','total_cases','total_deaths','people_vaccinated','population'].max().sort_values(by='location',ascending=False).reset_index()\n",
        "world_comparasion['percent_population_vaccinated']=world_comparasion['people_vaccinated']/world_comparasion['population']\n",
        "world_comparasion['percent_population_death']=world_comparasion['total_deaths']/world_comparasion['population']\n",
        "world_comparasion= world_comparasion.loc[world_comparasion['location'] != world_comparasion['continent']].reset_index(drop=True)\n",
        "world_comparasion"
      ]
    },
    {
      "cell_type": "markdown",
      "metadata": {
        "id": "mtcKd2UeuEbD"
      },
      "source": [
        "# **Data Visualizations And Understandig**"
      ]
    },
    {
      "cell_type": "markdown",
      "metadata": {
        "id": "0cqOK2m2Vorn"
      },
      "source": [
        "## **Line Plot**"
      ]
    },
    {
      "cell_type": "code",
      "execution_count": null,
      "metadata": {
        "id": "0MPPKbL-t0We"
      },
      "outputs": [],
      "source": [
        "fig = go.Figure()\n",
        "fig.add_trace(go.Scatter(x=confirmed['Date'], y=confirmed['Confirmed'], name='Confirmed', mode='lines+markers', line = dict(color=\"Orange\", width=2)))\n",
        "fig.add_trace(go.Scatter(x=recovered['Date'], y=recovered['Recovered'], name='Recovered', mode='lines+markers', line = dict(color=\"Green\", width=2)))\n",
        "fig.add_trace(go.Scatter(x=deaths['Date'], y=deaths['Deaths'], name='Deaths', mode='lines+markers', line = dict(color=\"Red\", width=2)))\n",
        "fig.update_layout(title='Covid-19 Cases', xaxis_title='Date', yaxis_title='Number of Cases', font=dict(family='Courier New, monospace', size=18, color='Black'))"
      ]
    },
    {
      "cell_type": "code",
      "execution_count": null,
      "metadata": {
        "id": "BOPdlu4uuK5u"
      },
      "outputs": [],
      "source": [
        "#Changing date colom from datetime64 to str\n",
        "df1['Date'] = df1['Date'].astype(str)\n",
        "df1.info()"
      ]
    },
    {
      "cell_type": "markdown",
      "metadata": {
        "id": "G3rdBCFHtFuG"
      },
      "source": [
        "##**Confirmed Cases Worldwide With Choropleth Map (log10)**"
      ]
    },
    {
      "cell_type": "code",
      "execution_count": null,
      "metadata": {
        "id": "HYpE1__Bs4u3"
      },
      "outputs": [],
      "source": [
        "fig = px.choropleth(country_daywise, locations=\"Country\",locationmode='country names',color=np.log(country_daywise['Confirmed']),hover_name='Country',animation_frame=country_daywise['Date'].dt.strftime('%Y-%m-%d'),title='Covid-19 Cases in the World',color_continuous_scale=px.colors.sequential.Inferno)\n",
        "fig.update(layout_coloraxis_showscale=True)\n"
      ]
    },
    {
      "cell_type": "markdown",
      "metadata": {
        "id": "V6BnPlkyEbGa"
      },
      "source": [
        "##**Sacter Plot For Deaths vs Confirmed Cases**"
      ]
    },
    {
      "cell_type": "code",
      "execution_count": null,
      "metadata": {
        "id": "WL6fdrfnvI3z"
      },
      "outputs": [],
      "source": [
        "top = 15\n",
        "fig = px.scatter(countrywise.sort_values('Deaths',ascending=False).head(top),\n",
        " x='Confirmed', y='Deaths', color='Country',size= 'Confirmed',\n",
        " height=700,text='Country', log_x = True, log_y = True,\n",
        "   title='Top 15 Countries with the most Deaths')\n",
        "#fig.uptade_traces(textposition='top center')\n",
        "fig.update_layout(showlegend=True)\n",
        "fig.update_layout(xaxis_rangeslider_visible=True)\n",
        "fig.show()"
      ]
    },
    {
      "cell_type": "markdown",
      "metadata": {
        "id": "zQIthwFuE556"
      },
      "source": [
        "##**Cases over the time With Area plot**"
      ]
    },
    {
      "cell_type": "code",
      "execution_count": null,
      "metadata": {
        "id": "5LEnUwWRERBR"
      },
      "outputs": [],
      "source": [
        "temp = df1.groupby('Date')['Recovered','Deaths','Active'].sum().reset_index()\n",
        "temp = temp.melt(id_vars='Date', value_vars=['Recovered','Deaths','Active'],var_name = 'Case', value_name = 'Count')\n",
        "\n",
        "fig = px.area(temp,x='Date',y = 'Count',color = 'Case', height = 600, title = 'Cases over time')\n",
        "fig.update_layout(xaxis_rangeslider_visible=True)\n",
        "fig.show()\n"
      ]
    },
    {
      "cell_type": "code",
      "execution_count": null,
      "metadata": {
        "id": "42W8yyJTvug2"
      },
      "outputs": [],
      "source": [
        "def plot_daywise(col, hue):\n",
        "    fig = px.bar(daywise, x=\"Date\", y=col, width=700, color_discrete_sequence=['red'])\n",
        "    fig.update_layout(title=col, xaxis_title=\"\", yaxis_title=\"\")\n",
        "    fig.show()\n"
      ]
    },
    {
      "cell_type": "code",
      "execution_count": null,
      "metadata": {
        "id": "f21JWiHQy5_Y"
      },
      "outputs": [],
      "source": [
        "def plot_daywise_line(col, hue):\n",
        "    fig = px.line(daywise, x=\"Date\", y=col, width=700, color_discrete_sequence=['red'])\n",
        "    fig.update_layout(title=col, xaxis_title=\"\", yaxis_title=\"\")\n",
        "    fig.show()"
      ]
    },
    {
      "cell_type": "code",
      "execution_count": null,
      "metadata": {
        "id": "9XPFh4DN2HRV"
      },
      "outputs": [],
      "source": [
        "plot_daywise('Confirmed', '#333333')\n"
      ]
    },
    {
      "cell_type": "code",
      "execution_count": null,
      "metadata": {
        "id": "G67OFs_S2Nsv"
      },
      "outputs": [],
      "source": [
        "plot_daywise('New Cases', '#333333')"
      ]
    },
    {
      "cell_type": "code",
      "execution_count": null,
      "metadata": {
        "id": "qz6WpzTW3AJ7"
      },
      "outputs": [],
      "source": [
        "plot_daywise('Deaths', dth)"
      ]
    },
    {
      "cell_type": "code",
      "execution_count": null,
      "metadata": {
        "id": "8s-QTzNk1LbV"
      },
      "outputs": [],
      "source": [
        "plot_daywise_line('Deaths / 100 Cases', dth)"
      ]
    },
    {
      "cell_type": "code",
      "execution_count": null,
      "metadata": {
        "id": "aK6_1iIW1OAs"
      },
      "outputs": [],
      "source": [
        "plot_daywise_line('Deaths / 100 Recovered', dth)"
      ]
    },
    {
      "cell_type": "code",
      "execution_count": null,
      "metadata": {
        "id": "Kso36pGS156i"
      },
      "outputs": [],
      "source": [
        "plot_daywise_line('Recovered / 100 Cases', rec)"
      ]
    },
    {
      "cell_type": "markdown",
      "metadata": {
        "id": "6qYKlXtPGtfX"
      },
      "source": [
        "# **World Comparasion**"
      ]
    },
    {
      "cell_type": "markdown",
      "metadata": {
        "id": "uDzmPgcEG4TT"
      },
      "source": [
        "**The top 15 countries (population > 10 million) have the most COVID cases.**"
      ]
    },
    {
      "cell_type": "code",
      "execution_count": null,
      "metadata": {
        "id": "pgTrBzo_3e4_"
      },
      "outputs": [],
      "source": [
        "country_pop_more_than_10m= world_comparasion[world_comparasion['population']>10000000]"
      ]
    },
    {
      "cell_type": "code",
      "execution_count": null,
      "metadata": {
        "id": "DNyZZc7aAwOv"
      },
      "outputs": [],
      "source": [
        "# 1. Top 15 countries (population > 10 millons) have the most covid cases\n",
        "top_15_total_cases = country_pop_more_than_10m[['location','population','total_cases']].sort_values(by='total_cases',ascending=False).reset_index(drop=True).head(15)\n",
        "\n",
        "sns.set_theme(style='white')\n",
        "f, ax = plt.subplots(figsize=(10, 6))\n",
        "ax= sns.barplot(x='total_cases' , y='location', data=top_15_total_cases, palette='rocket')\n",
        "sns.despine(left=True, bottom=True)\n",
        "ax.set(xticklabels=[])\n",
        "ax.tick_params(bottom=False)\n",
        "\n",
        "ax.axes.set_title('Top 15 countires that have the most covid cases',fontsize=16, pad=20)\n",
        "ax.set_xlabel('')\n",
        "ax.set_ylabel('Countries',fontsize=12, labelpad=20)\n",
        "\n",
        "#set annotation\n",
        "for p in ax.patches:\n",
        "    ax.annotate('{:,}'.format(int(p.get_width())), xy=(p.get_width(), p.get_y()+p.get_height()/2),\n",
        "            xytext=(10, 0), textcoords='offset points', ha='left', va='center', color='black', fontsize=11);"
      ]
    },
    {
      "cell_type": "markdown",
      "metadata": {
        "id": "oFQ8GOjnHLeB"
      },
      "source": [
        "**The top 15 European countries (population  > 10 million) have the highest percentage of vaccinated population.**"
      ]
    },
    {
      "cell_type": "code",
      "execution_count": null,
      "metadata": {
        "id": "Io1NCpA0BjSV"
      },
      "outputs": [],
      "source": [
        "# 2. The top 15 European countries (with a population of more than 10 million) have the highest percentage of vaccinated citizens.\n",
        "top_8_percent_population_vaccinated_EU=country_pop_more_than_10m[country_pop_more_than_10m.continent=='Europe'].sort_values(by='percent_population_vaccinated', ascending=False).head(15)\n",
        "\n",
        "sns.set_theme(style='white')\n",
        "f, ax = plt.subplots(figsize=(10, 6))\n",
        "ax= sns.barplot(x='percent_population_vaccinated' , y='location', data=top_8_percent_population_vaccinated_EU, palette='bone')\n",
        "sns.despine(left=True, bottom=True)\n",
        "ax.set(xticklabels=[])\n",
        "ax.tick_params(bottom=False)\n",
        "\n",
        "\n",
        "ax.axes.set_title('Top 15 European countries (population  > 10 million) have the highest percentage of vaccinated population',fontsize=16, pad=20)\n",
        "ax.set_xlabel('')\n",
        "ax.set_ylabel('Countries',fontsize=12, labelpad=20)\n",
        "\n",
        "#set annotation\n",
        "for p in ax.patches:\n",
        "    ax.annotate('{:,.2f}%'.format(float(p.get_width())*100), xy=(p.get_width(), p.get_y()+p.get_height()/2),\n",
        "            xytext=(10, 0), textcoords='offset points', ha='left', va='center', color='black', fontsize=11);"
      ]
    },
    {
      "cell_type": "markdown",
      "metadata": {
        "id": "ONfXJQzxHOkH"
      },
      "source": [
        "**The top 15 countries in North America (population > 10 million) have the highest rate of COVID-related population deaths.**"
      ]
    },
    {
      "cell_type": "code",
      "execution_count": null,
      "metadata": {
        "id": "7_jVA2uaCErF"
      },
      "outputs": [],
      "source": [
        "#3. The top 15 countries in North America (population > 10 million) have the highest rate of COVID-related population deaths.\n",
        "\n",
        "top_15_percent_population_death_NA=country_pop_more_than_10m[country_pop_more_than_10m.continent=='North America'].sort_values(by='percent_population_death', ascending=False).head(15)\n",
        "\n",
        "\n",
        "sns.set_theme(style='white')\n",
        "f, ax = plt.subplots(figsize=(10, 6))\n",
        "ax= sns.barplot(x='percent_population_death', y='location', data=top_15_percent_population_death_NA, palette='pink')\n",
        "sns.despine(left=True, bottom=True)\n",
        "ax.set(xticklabels=[])\n",
        "ax.tick_params(bottom=False)\n",
        "\n",
        "\n",
        "ax.axes.set_title('Top 15 countries in North America (population > 10 million) have the highest rate of COVID-related population deaths',fontsize=16, pad=20)\n",
        "ax.set_xlabel('')\n",
        "ax.set_ylabel('Countries',fontsize=12, labelpad=20)\n",
        "\n",
        "#set annotation\n",
        "for p in ax.patches:\n",
        "    ax.annotate('{:,.2f}%'.format(float(p.get_width())*100), xy=(p.get_width(), p.get_y()+p.get_height()/2),\n",
        "            xytext=(10, 0), textcoords='offset points', ha='left', va='center', color='black', fontsize=11);\n"
      ]
    },
    {
      "cell_type": "markdown",
      "metadata": {
        "id": "_omgsGEHHi7W"
      },
      "source": [
        "# **Canada Covid Analysis**"
      ]
    },
    {
      "cell_type": "markdown",
      "metadata": {
        "id": "vS2Fyf7VWMyu"
      },
      "source": [
        "## **A quick look**"
      ]
    },
    {
      "cell_type": "code",
      "execution_count": null,
      "metadata": {
        "id": "NqQAhMI3CJ4a"
      },
      "outputs": [],
      "source": [
        "Italy_covid=df[df.location == 'Italy']\n",
        "Italy_covid['percent_population_vaccinated'] = Italy_covid.loc[:,'people_vaccinated']/Italy_covid.loc[:,'population']\n",
        "Italy_covid.head()"
      ]
    },
    {
      "cell_type": "code",
      "execution_count": null,
      "metadata": {
        "id": "UBrjy_Rvkmqn"
      },
      "outputs": [],
      "source": [
        "Italy_covid.iloc[-1].to_frame()[2:]"
      ]
    },
    {
      "cell_type": "markdown",
      "metadata": {
        "id": "GrNt9IIhH_j5"
      },
      "source": [
        "Get a quick look to see the relationships between the number of icu patients, hospital patients, new deaths, and the percentage of the population vaccinated in Canada. The below heatmap and pairplot shows that new cases are positively related to the number of hospital patients, icu patients, new deaths, and the percentage of the population vaccinated in Canada."
      ]
    },
    {
      "cell_type": "code",
      "execution_count": null,
      "metadata": {
        "id": "B4uyBvUDHpuo"
      },
      "outputs": [],
      "source": [
        "plt.figure(figsize = (15,8))\n",
        "sns.heatmap(Italy_covid[['new_cases','hosp_patients','icu_patients','new_deaths','percent_population_vaccinated']].corr(),annot=True)"
      ]
    },
    {
      "cell_type": "markdown",
      "metadata": {
        "id": "1TieVUB7H71S"
      },
      "source": [
        "According to CTV news, the first COVID-19 vaccines administered in Canada is on Dec 14, 2020."
      ]
    },
    {
      "cell_type": "code",
      "execution_count": null,
      "metadata": {
        "id": "YtsREnafHrTy"
      },
      "outputs": [],
      "source": [
        "after_1st_vaccine_date=Italy_covid[Italy_covid.date >'2020-12-14']"
      ]
    },
    {
      "cell_type": "code",
      "execution_count": null,
      "metadata": {
        "id": "GHSAh4M5H3mP"
      },
      "outputs": [],
      "source": [
        "lowest_new_cases = after_1st_vaccine_date[after_1st_vaccine_date.new_cases >1].sort_values(by='new_cases').head(1)\n",
        "lowest_new_cases_date = lowest_new_cases.date"
      ]
    },
    {
      "cell_type": "markdown",
      "metadata": {
        "id": "ITWHoDGMIK8B"
      },
      "source": [
        "Question: How does the percentage of the population vaccinated affect new COVID-19 cases in Canada overtime?\n"
      ]
    },
    {
      "cell_type": "code",
      "execution_count": null,
      "metadata": {
        "id": "hDUF_PTaH5SI"
      },
      "outputs": [],
      "source": [
        "sns.set_theme(style='ticks')\n",
        "sns.set_context('notebook')\n",
        "\n",
        "fig = plt.figure(figsize=(14, 7))\n",
        "ax = fig.add_subplot(111)\n",
        "ax.plot(Canada_covid.date, Canada_covid.new_cases, 'darkblue', label = 'new cases', linewidth = 4, alpha= 0.6)\n",
        "\n",
        "ax2 = ax.twinx()\n",
        "ax2.plot(Canada_covid.date, Canada_covid.percent_population_vaccinated, 'green', label = 'share of population vaccinated',linewidth = 5, alpha= 0.7)\n",
        "\n",
        "ax.set_xlabel('date')\n",
        "ax.set_ylabel(r'New Covid Cases', labelpad=20)\n",
        "ax2.set_ylabel(r'Vaccinated Population as a Percentage', labelpad=20)\n",
        "\n",
        "\n",
        "plt.axvline(dt.datetime(2020,12,14), linewidth = 4, color='red',alpha= 0.3);\n",
        "plt.axvline(lowest_new_cases_date, linewidth = 4, color='gold',alpha= 0.3);\n",
        "\n",
        "ax.annotate('Lowest\\n New Cases\\n Date', xy=(lowest_new_cases_date, lowest_new_cases.new_cases),  xycoords='data',\n",
        "             xytext=(-30, 0), textcoords='offset points',\n",
        "             size=11, ha='right', va='center',\n",
        "             bbox=dict(boxstyle='round', alpha=0.1),\n",
        "             arrowprops=dict(arrowstyle='wedge,tail_width=0.5', alpha=0.1));\n",
        "\n",
        "ax.annotate('First Vaccine Day\\n in Canada', xy=(dt.datetime(2020,12,14), 8800),  xycoords='data',\n",
        "             xytext=(-30, 0), textcoords='offset points',\n",
        "             size=11, ha='right', va='center',\n",
        "             bbox=dict(boxstyle='round', alpha=0.1),\n",
        "             arrowprops=dict(arrowstyle='wedge,tail_width=0.5', alpha=0.1))\n",
        "\n",
        "ax.axes.set_title('How does the percentage of the population vaccinated \\naffect new COVID-19 cases in Canada overtime?',fontsize=16, weight='bold', pad=40)\n",
        "\n",
        "\n",
        "sns.despine(left=True, bottom=True)\n",
        "\n",
        "fig.legend(loc=1, bbox_to_anchor=(0.32,1), bbox_transform=ax.transAxes);"
      ]
    },
    {
      "cell_type": "markdown",
      "metadata": {
        "id": "VuLRttFaIT8C"
      },
      "source": [
        "Three specific period Analysis"
      ]
    },
    {
      "cell_type": "markdown",
      "metadata": {
        "id": "8YpIXrYBIW30"
      },
      "source": [
        "In 3 different periods according to the above time series analyses, how does the relationship changes between the percentage of the population vaccinated and\n",
        "\n",
        "the number of Canadian COVID cases\n",
        "\n",
        "  * the number of Canadian COVID cases\n",
        "  * the number of COVID-19 related deaths\n",
        "  * the number of hospital and icu patients"
      ]
    },
    {
      "cell_type": "code",
      "execution_count": null,
      "metadata": {
        "id": "qCIA3wabIPi9"
      },
      "outputs": [],
      "source": [
        "#set first vacciantion date & lowes new cases date\n",
        "first_vaccine_datetime = pd.to_datetime('2020-12-14')\n",
        "lowest_new_cases_datetime = lowest_new_cases_date.item()"
      ]
    },
    {
      "cell_type": "markdown",
      "metadata": {
        "id": "gmtlyZ9ERt0g"
      },
      "source": [
        "##**1) The first period - before the 1st vaccination date in Canada (before 2020-12-14)**"
      ]
    },
    {
      "cell_type": "markdown",
      "metadata": {
        "id": "ad78v7ltRxxY"
      },
      "source": [
        "Question: How did the COVID situation in Canada prior to the vaccination program?"
      ]
    },
    {
      "cell_type": "code",
      "execution_count": null,
      "metadata": {
        "id": "gAMaAJPHRpPh"
      },
      "outputs": [],
      "source": [
        "#before the 1st vaccination date\n",
        "before_1st_vaccine =Canada_covid[Canada_covid.date < first_vaccine_datetime]"
      ]
    },
    {
      "cell_type": "code",
      "execution_count": null,
      "metadata": {
        "id": "8GJChUVuR0cJ"
      },
      "outputs": [],
      "source": [
        "plt.figure(figsize = (15,8))\n",
        "sns.heatmap(before_1st_vaccine[['new_cases','hosp_patients','icu_patients','new_deaths']].corr(),annot=True)"
      ]
    },
    {
      "cell_type": "code",
      "execution_count": null,
      "metadata": {
        "id": "MdkrCk4TTlvt"
      },
      "outputs": [],
      "source": [
        "sns.pairplot(before_1st_vaccine[['new_cases','hosp_patients','icu_patients', 'new_deaths']], kind='reg', plot_kws={'line_kws':{'color':'red'}});"
      ]
    },
    {
      "cell_type": "markdown",
      "metadata": {
        "id": "4KdTsDSVSKiU"
      },
      "source": [
        "**Insight 1**"
      ]
    },
    {
      "cell_type": "markdown",
      "metadata": {
        "id": "gvW9P1BTSCET"
      },
      "source": [
        "We can see that before the first vaccination date in Canada:\n",
        "\n",
        "* New COVID cases were positively associated with hospital patients (corr = 0.60), icu patients (corr = 0.65), and new deaths (corr = 0.45).\n",
        "* The number of hospital patients was highly associated with the number of ICU *\n",
        "*patients (corr = 0.95), and the number of new deaths (corr = 0.88).\n",
        "The number of ICU patients was highly associated with the number of new deaths (corr = 0.89)."
      ]
    },
    {
      "cell_type": "markdown",
      "metadata": {
        "id": "zh-EeFT2ScGg"
      },
      "source": [
        "## **2) The second period - between the 1st vaccination date and the date with the lowest number of new cases (2020-12-14 ~ 2021-07-01)**"
      ]
    },
    {
      "cell_type": "markdown",
      "metadata": {
        "id": "9KWmeSxmSnD4"
      },
      "source": [
        "*Note: At the time this project is being completed the lowest new case date in Canada is 2021-07-01.The time frame may change as real-world scenarios change.*"
      ]
    },
    {
      "cell_type": "markdown",
      "metadata": {
        "id": "5Q8A7RQxSrgc"
      },
      "source": [
        "**Question**: How did the situation with COVID in Canada between the 1st vaccination date and the date with the lowest number of new cases?"
      ]
    },
    {
      "cell_type": "code",
      "execution_count": null,
      "metadata": {
        "id": "-16TMtxcR96G"
      },
      "outputs": [],
      "source": [
        "#b/t the 1st vaccination date and the lowest new cases date\n",
        "between_1st_and_lowest_new_cases =Canada_covid[(Canada_covid.date > first_vaccine_datetime) & (Canada_covid.date <lowest_new_cases_datetime)]\n",
        "\n",
        "plt.figure(figsize = (15,8))\n",
        "sns.heatmap(between_1st_and_lowest_new_cases[['new_cases','new_deaths','icu_patients','hosp_patients','percent_population_vaccinated']].corr(),annot=True)\n",
        "\n",
        "f, axes = plt.subplots(1,4,figsize=(14, 4), sharex=True)\n",
        "\n",
        "# Plot a simple distribution of the desired columns\n",
        "sns.regplot(data=between_1st_and_lowest_new_cases,x='percent_population_vaccinated', y='new_cases', line_kws={'color': 'red'}, ax=axes[0])\n",
        "sns.regplot(data=between_1st_and_lowest_new_cases,x='percent_population_vaccinated', y='new_deaths', line_kws={'color': 'red'}, ax=axes[1])\n",
        "sns.regplot(data=between_1st_and_lowest_new_cases,x='percent_population_vaccinated', y='hosp_patients',line_kws={'color': 'red'},ax=axes[2])\n",
        "sns.regplot(data=between_1st_and_lowest_new_cases,x='percent_population_vaccinated', y='icu_patients', line_kws={'color': 'red'}, ax=axes[3])\n",
        "sns.despine(left=True, bottom=True)\n",
        "\n",
        "\n",
        "plt.setp(axes, yticks=[])\n",
        "plt.tight_layout()"
      ]
    },
    {
      "cell_type": "markdown",
      "metadata": {
        "id": "ZDOZ4tbwS9Wm"
      },
      "source": [
        "**Insight 2**"
      ]
    },
    {
      "cell_type": "markdown",
      "metadata": {
        "id": "BgbfPcfDTCSk"
      },
      "source": [
        "We can see that between the 1st vaccination date and the lowest new case date (2020-12-14 ~ 2021-07-01) in Canada, the percentage of the population that got vaccinated is\n",
        "\n",
        "* negatively associated with the number of new COVID cases (corr= -0.4)\n",
        "* negatively associated with new deaths (corr= -0.56)\n",
        "* negatively associated with hospital patients (corr= -0.46)\n",
        "* However, it does not decrease the number of icu patients (corr=0.21) at this time."
      ]
    },
    {
      "cell_type": "markdown",
      "metadata": {
        "id": "i5HQTK7wTIFs"
      },
      "source": [
        "## **3) The third period - after the date with the lowest number of new cases (after 2021-07-01)**"
      ]
    },
    {
      "cell_type": "markdown",
      "metadata": {
        "id": "diE9UY8eTMPF"
      },
      "source": [
        "*Note: At the time this project is being completed the lowest new case date in Canada is 2021-07-01.The time frame may change as real-world scenarios change.*"
      ]
    },
    {
      "cell_type": "markdown",
      "metadata": {
        "id": "Q9lZt6ymTPNX"
      },
      "source": [
        "**Questions**: How did the COVID situation in Canada look like after the date with the lowest number of new cases?"
      ]
    },
    {
      "cell_type": "code",
      "execution_count": null,
      "metadata": {
        "id": "HBHorywGSvud"
      },
      "outputs": [],
      "source": [
        " #after the lowest new cases date\n",
        "after_lowest_new_cases = Canada_covid[Canada_covid.date >lowest_new_cases_datetime]\n",
        "\n",
        "plt.figure(figsize = (15,8))\n",
        "sns.heatmap(after_lowest_new_cases[['new_cases','new_deaths','icu_patients','hosp_patients','percent_population_vaccinated']].corr(),annot=True)\n",
        "\n",
        "f, axes = plt.subplots(1,4,figsize=(14, 4), sharex=True)\n",
        "\n",
        "# Plot a simple distribution of the desired columns\n",
        "sns.regplot(data=after_lowest_new_cases,x='percent_population_vaccinated', y='new_cases', line_kws={'color': 'red'}, ax=axes[0])\n",
        "sns.regplot(data=after_lowest_new_cases,x='percent_population_vaccinated', y='new_deaths', line_kws={'color': 'red'}, ax=axes[1])\n",
        "sns.regplot(data=after_lowest_new_cases,x='percent_population_vaccinated', y='hosp_patients', line_kws={'color': 'red'},ax=axes[2])\n",
        "sns.regplot(data=after_lowest_new_cases,x='percent_population_vaccinated', y='icu_patients',line_kws={'color': 'red'}, ax=axes[3])\n",
        "sns.despine(left=True, bottom=True)\n",
        "\n",
        "\n",
        "plt.setp(axes, yticks=[])\n",
        "plt.tight_layout()"
      ]
    },
    {
      "cell_type": "markdown",
      "metadata": {
        "id": "L1rQupKwUCEi"
      },
      "source": [
        "**Insight 3**"
      ]
    },
    {
      "cell_type": "markdown",
      "metadata": {
        "id": "FxVnLRkFUFd7"
      },
      "source": [
        "We can see that after the lowest new case date (after 2021-07-01) in Canada, the percentage of the population that got vaccinated is again\n",
        "\n",
        "* postively associated with the number of new COVID cases (corr=0.47)\n",
        "* postively associated with the number of new deaths (corr=0.27)\n",
        "* postively associated with the number of icu patients (corr=0.49)\n",
        "* postively associated with the number of hospital patients (corr=0.68)\n"
      ]
    },
    {
      "cell_type": "markdown",
      "metadata": {
        "id": "9w88PbasUMMc"
      },
      "source": [
        "## **4) Examine how the vaccination rate of the population affects new deaths, ICU patients, and hospital patients in Canada over time.**"
      ]
    },
    {
      "cell_type": "code",
      "execution_count": null,
      "metadata": {
        "id": "bCeZJj5CUQiv"
      },
      "outputs": [],
      "source": [
        "#New deaths time series\n",
        "sns.set_theme(style='ticks')\n",
        "sns.set_context('notebook')\n",
        "\n",
        "fig = plt.figure(figsize=(14, 7))\n",
        "ax = fig.add_subplot(111)\n",
        "ax.plot(Canada_covid.date, Canada_covid.new_deaths, 'red', label = 'new deaths', linewidth = 4, alpha= 0.6)\n",
        "\n",
        "ax2 = ax.twinx()\n",
        "ax2.plot(Canada_covid.date, Canada_covid.percent_population_vaccinated, 'green', label = 'share of population vaccinated',linewidth = 4, alpha= 0.7)\n",
        "\n",
        "ax.set_xlabel('date')\n",
        "ax.set_ylabel(r'New Deaths', labelpad=20)\n",
        "ax2.set_ylabel(r'Vaccinated Population as a Percentage', labelpad=20)\n",
        "\n",
        "ax.axes.set_title('How does the percentage of the population vaccinated \\naffect new deaths in Canada overtime?',fontsize=16, weight='bold', pad=40)\n",
        "\n",
        "sns.despine(left=True, bottom=True)\n",
        "\n",
        "fig.legend(loc=1, bbox_to_anchor=(0.32,1), bbox_transform=ax.transAxes);\n",
        "\n",
        "\n",
        "\n",
        "#ICU patients time series\n",
        "sns.set_theme(style='ticks')\n",
        "sns.set_context('notebook')\n",
        "\n",
        "fig = plt.figure(figsize=(14, 7))\n",
        "ax = fig.add_subplot(111)\n",
        "ax.plot(Canada_covid.date, Canada_covid.icu_patients, 'maroon', label = 'ICU patients', linewidth = 4, alpha= 0.6)\n",
        "\n",
        "\n",
        "ax2 = ax.twinx()\n",
        "ax2.plot(Canada_covid.date, Canada_covid.percent_population_vaccinated, 'green', label = 'share of population vaccinated',linewidth = 4, alpha= 0.7)\n",
        "ax.set_xlabel('date')\n",
        "ax.set_ylabel(r'ICU patients', labelpad=20)\n",
        "ax2.set_ylabel(r'Vaccinated Population as a Percentage', labelpad=20)\n",
        "\n",
        "ax.axes.set_title('How does the percentage of the population vaccinated \\naffect ICU patients in Canada overtime?',fontsize=16, weight='bold', pad=40)\n",
        "\n",
        "sns.despine(left=True, bottom=True)\n",
        "\n",
        "fig.legend(loc=1, bbox_to_anchor=(0.32,1), bbox_transform=ax.transAxes);\n",
        "\n",
        "#Hospital patients time series\n",
        "sns.set_theme(style='ticks')\n",
        "sns.set_context('notebook')\n",
        "\n",
        "fig = plt.figure(figsize=(14, 7))\n",
        "ax = fig.add_subplot(111)\n",
        "ax.plot(Canada_covid.date, Canada_covid.hosp_patients, 'orange', label = 'hospital patients', linewidth = 4, alpha= 0.6)\n",
        "\n",
        "\n",
        "ax2 = ax.twinx()\n",
        "ax2.plot(Canada_covid.date, Canada_covid.percent_population_vaccinated, 'green', label = 'share of population vaccinated',linewidth = 4, alpha= 0.7)\n",
        "ax.set_xlabel('date')\n",
        "ax.set_ylabel(r'Hospital patients', labelpad=20)\n",
        "ax2.set_ylabel(r'Vaccinated Population as a Percentage', labelpad=20)\n",
        "\n",
        "ax.axes.set_title('How does the percentage of the population vaccinated \\naffect Hospital patients in Canada overtime?',fontsize=16, weight='bold', pad=40)\n",
        "\n",
        "sns.despine(left=True, bottom=True)\n",
        "\n",
        "fig.legend(loc=1, bbox_to_anchor=(0.32,1), bbox_transform=ax.transAxes);"
      ]
    },
    {
      "cell_type": "markdown",
      "metadata": {
        "id": "LXtr1ndMUVBw"
      },
      "source": [
        "**Insight 4**"
      ]
    },
    {
      "cell_type": "markdown",
      "metadata": {
        "id": "7daGGTb8UY63"
      },
      "source": [
        "Although there are high and low number changes in the data following the implementation of the vaccine program, the overall trend is still *downward*, particularly in terms of **the number of deaths**.\n",
        "\n",
        "However, as this news points out, we cannot rely solely on vaccines to stop COVID-19. Other safety measures are required."
      ]
    },
    {
      "cell_type": "markdown",
      "metadata": {
        "id": "ra6VpIkqUZ-B"
      },
      "source": [
        "**Notes**\n",
        "\n",
        "*At the time this project is being completed in 2021-11-09 (upadated on 2021-11-25), the lowest new case date in Canada is 2021-07-01. Thus, the time frame for the results above are*\n",
        "\n",
        "* Before 2020-12-14\n",
        "* Between 2021-12-14 and 2021-07-01\n",
        "* After 2021-07-01"
      ]
    },
    {
      "cell_type": "markdown",
      "metadata": {
        "id": "Y_K8S_kMWeE5"
      },
      "source": []
    },
    {
      "cell_type": "code",
      "execution_count": null,
      "metadata": {
        "id": "9dyN4rLdWpBX"
      },
      "outputs": [],
      "source": [
        "#First, we convert the date column to pandas datetime format.\n",
        "Canada_covid['date'] = pd.to_datetime(Canada_covid['date']).dt.normalize()"
      ]
    },
    {
      "cell_type": "code",
      "execution_count": null,
      "metadata": {
        "id": "36Dhx18MWsag"
      },
      "outputs": [],
      "source": [
        "#Moreover, we get today's and tomorrow's date, since they will be useful for future plots.\n",
        "today = df['date'].iloc[-1]\n",
        "tomorrow = today + pd.DateOffset(days=1)"
      ]
    },
    {
      "cell_type": "markdown",
      "metadata": {
        "id": "VbDzw8lyXFho"
      },
      "source": [
        "Since the data is divided by Country for each day, we create a new dataframe 'df_canada' where we group the rows by the column 'date'to get the total daily data in Canada.\n"
      ]
    },
    {
      "cell_type": "code",
      "execution_count": null,
      "metadata": {
        "id": "7r0WJ8vSWxRK"
      },
      "outputs": [],
      "source": [
        "Canada_covid=Canada_covid.groupby('date').sum()"
      ]
    },
    {
      "cell_type": "markdown",
      "metadata": {
        "id": "THX8dXL3XZr0"
      },
      "source": [
        "# **Overview**"
      ]
    },
    {
      "cell_type": "code",
      "execution_count": null,
      "metadata": {
        "id": "RpclpvUJP4Tm"
      },
      "outputs": [],
      "source": [
        "df['date'] = pd.to_datetime(df['date']).dt.normalize()"
      ]
    },
    {
      "cell_type": "code",
      "execution_count": null,
      "metadata": {
        "id": "zgeYYAFBXBOZ"
      },
      "outputs": [],
      "source": [
        "plt.figure(figsize=(10,4))\n",
        "plt.title('COVID19 new cases in Italy', fontsize=20)\n",
        "plt.plot(Italy_covid['new_cases'])\n",
        "plt.text(Italy_covid.index[0],np.max(Italy_covid['new_cases'])-5000,\n",
        "         'Todays new cases:{}'.format(Italy_covid['new_cases'].iloc[-1]),\n",
        "         fontsize=13,\n",
        "         bbox=dict(facecolor='white', alpha=1))\n",
        "plt.ylabel('New cases')\n",
        "plt.show()"
      ]
    },
    {
      "cell_type": "code",
      "execution_count": null,
      "metadata": {
        "id": "sek2jpPfXO2W"
      },
      "outputs": [],
      "source": [
        "plt.figure(figsize=(13,6))\n",
        "plt.title('COVID19 new cases in Italy in the last 3 weeks', fontsize=30)\n",
        "plt.plot(Italy_covid[-21:].index, Italy_covid[-21:].new_cases, marker='o', color='red')\n",
        "plt.bar(Italy_covid[-21:].index, Italy_covid[-21:].new_cases, color='#000080', alpha=0.8)\n",
        "plt.ylabel('New Cases', fontsize=15)\n",
        "plt.text(Italy_covid[-21:].index[0],np.max(Italy_covid[-21:]['new_cases'])-5000,\n",
        "         'Todays new cases:{}'.format(Italy_covid['new_cases'].iloc[-1]),\n",
        "         fontsize=20,\n",
        "         bbox=dict(facecolor='white', alpha=1))\n",
        "plt.grid(visible=None, axis='x')\n",
        "plt.show()"
      ]
    },
    {
      "cell_type": "markdown",
      "metadata": {
        "id": "-0nAGuv6XoPV"
      },
      "source": [
        "## **Holidays**"
      ]
    },
    {
      "cell_type": "markdown",
      "metadata": {
        "id": "wZzw-kZVX190"
      },
      "source": [
        "In the following, we will define a 'holiday' column to include boolean values to check if a day is a holiday or not. We decided to include this column since, after a first analysis, it looks like that on days after holidays the number of new cases decreases, since on holidays usually less PCR tests are performed. By specifing this information to the prediction models, we can obtain a more accurate forecast.\n",
        "\n",
        "We create a list compregension to extract the holidays from the holidays library, and add bolean values to a list is_holiday depending if the date is a holiday (value=1) or not (value=0)."
      ]
    },
    {
      "cell_type": "code",
      "execution_count": null,
      "metadata": {
        "id": "hvG-EnP8XpRH"
      },
      "outputs": [],
      "source": [
        "is_holiday = [1 if x==True else 0 for x in [day in holidays.Italy() for day in Italy_covid.index]]"
      ]
    },
    {
      "cell_type": "code",
      "execution_count": null,
      "metadata": {
        "id": "cqCuUuzxX5CS"
      },
      "outputs": [],
      "source": [
        "Italy_covid['holiday'] = is_holiday"
      ]
    },
    {
      "cell_type": "markdown",
      "metadata": {
        "id": "DwIR9TrbX9jL"
      },
      "source": [
        "# **Weekly case distribution analysis**"
      ]
    },
    {
      "cell_type": "markdown",
      "metadata": {
        "id": "_-F1tsiYYCPL"
      },
      "source": [
        "Next we will analyze the weekly distribution to check how the mean, median and standard deviation of new cases changed during the weeks.\n",
        "First, we create a list of the days for each date.\n",
        "\n"
      ]
    },
    {
      "cell_type": "code",
      "execution_count": null,
      "metadata": {
        "id": "_8rrz5UXX9Pq"
      },
      "outputs": [],
      "source": [
        "#day = [calendar.day_name[day.weekday()] for day in Italy_covid.index]\n",
        "day = [calendar.day_name[day.weekday()] for day in Italy_covid.index]"
      ]
    },
    {
      "cell_type": "markdown",
      "metadata": {
        "id": "HTLmE4ppYLbZ"
      },
      "source": [
        "Then we create a new column in the dataframe to host this list."
      ]
    },
    {
      "cell_type": "code",
      "execution_count": null,
      "metadata": {
        "id": "CxVYUKV-X6E9"
      },
      "outputs": [],
      "source": [
        "Italy_covid['day'] = day"
      ]
    },
    {
      "cell_type": "markdown",
      "metadata": {
        "id": "gs4an-OuYOBC"
      },
      "source": [
        "Now we need to create a function that select only the last 4 weeks in the dataframe. We decided to create a new dataframe 'df_italy_small' and assign it the last 34 rows of the dataframe 'df_italy'. Then we check if the current day, and in case it is a Sunday then we can copy 28 rows (4 weeks) of data and assign to a new dataframe 'df_4weeks'"
      ]
    },
    {
      "cell_type": "code",
      "execution_count": null,
      "metadata": {
        "id": "1lzjqZZFYJSt"
      },
      "outputs": [],
      "source": [
        "idx=0 #index to move along the rows\n",
        "df_4weeks = pd.DataFrame()\n",
        "Canada_covid_small = Canada_covid.iloc[-34:].iloc[::-1] #consider 34 rows (worst case)\n",
        "\n",
        "while(True):\n",
        "    if Canada_covid_small.iloc[idx:].day[0] == 'Sunday':\n",
        "        df_4weeks=Canada_covid_small.iloc[:28]\n",
        "        break\n",
        "    else:\n",
        "        idx+=1"
      ]
    },
    {
      "cell_type": "markdown",
      "metadata": {
        "id": "QKXWNrwGYSTo"
      },
      "source": [
        "Then we extract the 4 values for the 4 weeks, and add a column to indicate the week."
      ]
    },
    {
      "cell_type": "code",
      "execution_count": null,
      "metadata": {
        "id": "N98Z2731YQRk"
      },
      "outputs": [],
      "source": [
        "df_week1=df_4weeks.iloc[:7]\n",
        "df_week1['week']='1 week ago'\n",
        "\n",
        "df_week2=df_4weeks.iloc[7:14]\n",
        "df_week2['week']='2 weeks ago'\n",
        "\n",
        "df_week3=df_4weeks.iloc[14:21]\n",
        "df_week3['week']='3 weeks ago'\n",
        "\n",
        "df_week4=df_4weeks.iloc[21:28]\n",
        "df_week4['week']='4 weeks ago'\n",
        "\n",
        "df_4weeks_2 = pd.concat([df_week1, df_week2, df_week3, df_week4])"
      ]
    },
    {
      "cell_type": "markdown",
      "metadata": {
        "id": "WJPPm198YXWu"
      },
      "source": [
        "We extract also the mean, median and standard deviation of the cases during these weeks."
      ]
    },
    {
      "cell_type": "code",
      "execution_count": null,
      "metadata": {
        "id": "KfNJ83v3YWvR"
      },
      "outputs": [],
      "source": [
        "mean_1 = np.round(df_week1.new_cases.mean(),0)\n",
        "median_1 = np.round(df_week1.new_cases.median(),0)\n",
        "std_1 = np.round(df_week1.new_cases.std(),0)\n",
        "\n",
        "mean_2 = np.round(df_week2.new_cases.mean(),0)\n",
        "median_2 = np.round(df_week2.new_cases.median(),0)\n",
        "std_2 = np.round(df_week2.new_cases.std(),0)\n",
        "\n",
        "mean_3 = np.round(df_week3.new_cases.mean(),0)\n",
        "median_3 = np.round(df_week3.new_cases.median(),0)\n",
        "std_3 = np.round(df_week3.new_cases.std(),0)\n",
        "\n",
        "mean_4 = np.round(df_week4.new_cases.mean(),0)\n",
        "median_4 = np.round(df_week4.new_cases.median(),0)\n",
        "std_4 = np.round(df_week4.new_cases.std(),0)"
      ]
    },
    {
      "cell_type": "markdown",
      "metadata": {
        "id": "-sfPGKSgYcwH"
      },
      "source": [
        "And create ad additional dataframe where we include the week and the three statistics."
      ]
    },
    {
      "cell_type": "code",
      "execution_count": null,
      "metadata": {
        "id": "y7GuOisEYVEn"
      },
      "outputs": [],
      "source": [
        "df_stats = pd.DataFrame({'week':['1 week ago','2 weeks ago','3 weeks ago','4 weeks ago'],\n",
        "                         'mean':[mean_1,mean_2,mean_3,mean_4],\n",
        "                         'median':[median_1,median_2,median_3,median_4],\n",
        "                         'std':[std_1,std_2,std_3,std_4]})"
      ]
    },
    {
      "cell_type": "code",
      "execution_count": null,
      "metadata": {
        "id": "sRE_0pBwYeO0"
      },
      "outputs": [],
      "source": [
        "df_stats"
      ]
    },
    {
      "cell_type": "code",
      "execution_count": null,
      "metadata": {
        "id": "DareFJ7sYjEs"
      },
      "outputs": [],
      "source": []
    },
    {
      "cell_type": "code",
      "execution_count": null,
      "metadata": {
        "id": "vAYJdnZEYqbh"
      },
      "outputs": [],
      "source": []
    },
    {
      "cell_type": "code",
      "execution_count": null,
      "metadata": {
        "id": "8EL__VjEYqUY"
      },
      "outputs": [],
      "source": []
    },
    {
      "cell_type": "markdown",
      "metadata": {
        "id": "jXShDPUSYo4c"
      },
      "source": [
        "We can clearly see an increase in Mean, Median and Standard Deviation during the last 4 weeks.\n",
        "In particular, we can also notice that all these 3 statistics increased more during last week compared to 2 and 3 weeks ago."
      ]
    },
    {
      "cell_type": "markdown",
      "metadata": {
        "id": "fJgRdfioYr84"
      },
      "source": [
        "# **Time series modeling and Forecasting**"
      ]
    },
    {
      "cell_type": "code",
      "execution_count": null,
      "metadata": {
        "id": "TFHt3BOHNt_e"
      },
      "outputs": [],
      "source": [
        "Italy_covid.head()"
      ]
    },
    {
      "cell_type": "code",
      "execution_count": null,
      "metadata": {
        "id": "hQw0WC0WYwBF"
      },
      "outputs": [],
      "source": [
        "df = Italy_covid.copy()"
      ]
    },
    {
      "cell_type": "code",
      "execution_count": null,
      "metadata": {
        "id": "Cs9Vn2fxO7XY"
      },
      "outputs": [],
      "source": [
        "df.head()"
      ]
    },
    {
      "cell_type": "code",
      "execution_count": null,
      "metadata": {
        "id": "EBQAh8ZIYyH5"
      },
      "outputs": [],
      "source": [
        "df = df[['new_cases','holiday']]"
      ]
    },
    {
      "cell_type": "code",
      "execution_count": null,
      "metadata": {
        "id": "EGFpt5W4YzAA"
      },
      "outputs": [],
      "source": [
        "df.head()"
      ]
    },
    {
      "cell_type": "markdown",
      "metadata": {
        "id": "KOO95eC8Y3q_"
      },
      "source": [
        "Moreover, we also define some time windows which will be useful during the forecasting analysis and plotting."
      ]
    },
    {
      "cell_type": "code",
      "execution_count": null,
      "metadata": {
        "id": "wXqa2rAHY1I-"
      },
      "outputs": [],
      "source": [
        "prediction_window = 21 #testing window (3 weeks of data)\n",
        "forecast_window = 7 # forecasting window (1 week)\n",
        "window = prediction_window + forecast_window #prediction + forecasting window"
      ]
    },
    {
      "cell_type": "markdown",
      "metadata": {
        "id": "TniwtnZ2Y8Q5"
      },
      "source": [
        "##**Prophet**"
      ]
    },
    {
      "cell_type": "code",
      "execution_count": null,
      "metadata": {
        "id": "G1uEbNFxY5LK"
      },
      "outputs": [],
      "source": [
        "df_p = df['new_cases'].reset_index().copy()\n",
        "df_p = df_p.rename(columns={'date': 'ds', 'new_cases': 'y'})"
      ]
    },
    {
      "cell_type": "code",
      "execution_count": null,
      "metadata": {
        "id": "7HC-zvrCORC5"
      },
      "outputs": [],
      "source": [
        "df_p.head()"
      ]
    },
    {
      "cell_type": "markdown",
      "metadata": {
        "id": "yYFAABp96exD"
      },
      "source": [
        "Now we can define the Prophet model."
      ]
    },
    {
      "cell_type": "code",
      "execution_count": null,
      "metadata": {
        "id": "QQkPLsvr5cDa"
      },
      "outputs": [],
      "source": [
        "prophet_model = Prophet(n_changepoints=50, # hyperpa}rameter\n",
        "                        seasonality_mode='multiplicative',\n",
        "                        changepoint_prior_scale=1) # hyperparameter"
      ]
    },
    {
      "cell_type": "markdown",
      "metadata": {
        "id": "tonhFzIJ6i6i"
      },
      "source": [
        "We add both weekly and yearly seasonality."
      ]
    },
    {
      "cell_type": "code",
      "execution_count": null,
      "metadata": {
        "id": "7OiDh2iK6g9N"
      },
      "outputs": [],
      "source": [
        "prophet_model.add_seasonality('weekly', period = 7, fourier_order = 10, mode = 'multiplicative')\n",
        "prophet_model.add_seasonality('yearly', period = 365, fourier_order = 30, mode = 'multiplicative')"
      ]
    },
    {
      "cell_type": "markdown",
      "metadata": {
        "id": "p8RKTpRd6n9u"
      },
      "source": [
        "Since we cannot add the holiday column as we defined previously, we add the holidays using the 'add_country_holidays()' method of the prophet model class."
      ]
    },
    {
      "cell_type": "code",
      "execution_count": null,
      "metadata": {
        "id": "v-pa4JIh6lAN"
      },
      "outputs": [],
      "source": [
        "prophet_model.add_country_holidays(country_name='Italy')"
      ]
    },
    {
      "cell_type": "code",
      "execution_count": null,
      "metadata": {
        "id": "y61bEsLl6qLn"
      },
      "outputs": [],
      "source": [
        "prophet_model.fit(df_p)"
      ]
    },
    {
      "cell_type": "markdown",
      "metadata": {
        "id": "AhAyu9ah6zJD"
      },
      "source": [
        "## **Prophet Forecasting**"
      ]
    },
    {
      "cell_type": "code",
      "execution_count": null,
      "metadata": {
        "id": "9XY6uBny672y"
      },
      "outputs": [],
      "source": [
        "future = prophet_model.make_future_dataframe(periods=forecast_window)"
      ]
    },
    {
      "cell_type": "markdown",
      "metadata": {
        "id": "HIS6oN877Gbc"
      },
      "source": [
        "Then we call the 'predict()' method of the prophet model, where we specify the dataframe with future days 'future'"
      ]
    },
    {
      "cell_type": "code",
      "execution_count": null,
      "metadata": {
        "id": "am5Bhyd86_Va"
      },
      "outputs": [],
      "source": [
        "forecast = prophet_model.predict(future)"
      ]
    },
    {
      "cell_type": "code",
      "execution_count": null,
      "metadata": {
        "id": "Z9Wk3sTE7cpQ"
      },
      "outputs": [],
      "source": [
        "prophet_model.plot(forecast);\n",
        "plt.title(\"COVID19 new cases in Canada with forecasting by Prophet\", fontsize=23)\n",
        "plt.ylabel(\"New cases\", fontsize=15)\n",
        "plt.xlabel('')\n",
        "plt.show()"
      ]
    },
    {
      "cell_type": "markdown",
      "metadata": {
        "id": "2y5NaWrX7LnM"
      },
      "source": [
        "**At a first glance, we can see that the predicted time series (in blue) fits well the original data (black dots).**"
      ]
    },
    {
      "cell_type": "markdown",
      "metadata": {
        "id": "u_oCsUpn7NG1"
      },
      "source": [
        "Moreover, it could be interesting to see the components (the trend for example) of the predicted time series by calling the 'plot_components()' method of the prophet model."
      ]
    },
    {
      "cell_type": "code",
      "execution_count": null,
      "metadata": {
        "id": "YYOHbJoT7Ib4"
      },
      "outputs": [],
      "source": [
        "fig = prophet_model.plot_components(forecast)"
      ]
    },
    {
      "cell_type": "markdown",
      "metadata": {
        "id": "CS3ejDRe784N"
      },
      "source": [
        "Plots analysis:\n",
        "\n",
        "* Trend: We can see the trends of the 5 covid waves: the steeper one is around October 2020.\n",
        "* Holidays: We can see the effects of holidays on the number of new cases.\n",
        "* Weekly seasonality: We can observe the drop of cases on Monday, since on Sunday less tests are carried, and an overall increase over the week, with the highest number of positive cases found around Friday.\n",
        "* Yearly seasonality: We can observe the drop in cases from May to November, seen both in 2020 and 2021"
      ]
    },
    {
      "cell_type": "markdown",
      "metadata": {
        "id": "r5InvLqr78vv"
      },
      "source": [
        "Next, we want to make a custom plot to check the forecasted days. We first create a dataframe including the dates (ds), predicted values (yhat) and confidence intervals( yhat_lower and yhat_upper)."
      ]
    },
    {
      "cell_type": "code",
      "execution_count": null,
      "metadata": {
        "id": "I5Fzfw6l747i"
      },
      "outputs": [],
      "source": [
        "forecast_df = forecast[['ds', 'yhat', 'yhat_lower', 'yhat_upper']]"
      ]
    },
    {
      "cell_type": "code",
      "execution_count": null,
      "metadata": {
        "id": "yLEVMVbA76kC"
      },
      "outputs": [],
      "source": [
        "forecast_df"
      ]
    },
    {
      "cell_type": "code",
      "execution_count": null,
      "metadata": {
        "id": "h9sb7EMp8LQD"
      },
      "outputs": [],
      "source": [
        "plt.figure(figsize=(12,5))\n",
        "plt.title('COVID19 new cases in Canada with forecasting by Prophet', fontsize=22)\n",
        "#Actual cases\n",
        "plt.plot(df[-prediction_window:].index, df[-prediction_window:]['new_cases'], label='Actual cases', marker='.')\n",
        "\n",
        "#PROPHET\n",
        "plt.plot(forecast_df[-window:]['ds'],forecast_df[-window:]['yhat'],color='#006400',label='PROPHET', marker='.')\n",
        "plt.fill_between(forecast_df[-forecast_window-1:]['ds'], forecast_df[-forecast_window-1:]['yhat_lower'],forecast_df[-forecast_window-1:]['yhat_upper'], color='lightgreen', alpha=0.5)\n",
        "\n",
        "\n",
        "text = 'Today\\'s new cases : {:.0f}\\nTomorrows new cases : {:.0f}'.format(float(df['new_cases'][-1:]), forecast_df[forecast_df['ds']==str(today+ pd.DateOffset(days=1))]['yhat'].values[0])\n",
        "plt.text(today + pd.DateOffset(days=1), np.min(df[-prediction_window:]['new_cases']), text, bbox=dict(facecolor='white', alpha=1), fontsize=14)\n",
        "\n",
        "\n",
        "plt.axvline(today, linewidth=1.5, color='black')\n",
        "\n",
        "plt.text(today - pd.DateOffset(days=1), np.max(forecast_df.iloc[-forecast_window:]['yhat'])-70000, 'TODAY', bbox=dict(facecolor='white', alpha=1), fontsize=14)\n",
        "plt.text(today- pd.DateOffset(days=1), np.max(forecast_df.iloc[-forecast_window:]['yhat'])-10000, 'Forecast->', bbox=dict(facecolor='white', alpha=1),fontsize=17)\n",
        "\n",
        "plt.legend(loc='upper left', fontsize=14, fancybox=True, shadow=True, frameon=True)\n",
        "plt.ylabel('New cases', fontsize=20)\n",
        "plt.xticks(forecast_df[-prediction_window-forecast_window:]['ds'], rotation=80, fontsize=14)\n",
        "plt.yticks(fontsize=15)\n",
        "\n",
        "plt.grid(visible=None, axis='x')\n",
        "plt.show()"
      ]
    },
    {
      "cell_type": "code",
      "execution_count": null,
      "metadata": {
        "id": "6XkXBzCQ8QXI"
      },
      "outputs": [],
      "source": [
        "def mape(y_true, y_pred):\n",
        "    y_true, y_pred = np.array(y_true), np.array(y_pred)\n",
        "    return np.mean(np.abs((y_true - y_pred) / y_true)) * 100"
      ]
    },
    {
      "cell_type": "code",
      "execution_count": null,
      "metadata": {
        "id": "88HO3Yhj8Siq"
      },
      "outputs": [],
      "source": [
        "mape_prophet = mape(forecast_df[-forecast_window-prediction_window:-forecast_window]['yhat'],df_p[-prediction_window:]['y'])\n",
        "rmse_prophet = mean_squared_error(forecast_df[-forecast_window-prediction_window:-forecast_window]['yhat'],df_p[-prediction_window:]['y'], squared=False)\n",
        "\n",
        "print('PROPHET RMSE: {:.0f} Cases'.format(rmse_prophet))\n",
        "print('PROPHET MAPE: {:.1f} %'.format(mape_prophet))"
      ]
    },
    {
      "cell_type": "markdown",
      "metadata": {
        "id": "JWx5BAQI8aMt"
      },
      "source": [
        "**We can see a good fit of the Prophet model on the time series referring to the last 3 weeks.\n",
        "We can also notice a steep decrease of cases on december 26th and 27th since both 25th and 26th are holidays, so usually less tests are performed. Indeed, the following days result to have lots of new cases.**"
      ]
    },
    {
      "cell_type": "markdown",
      "metadata": {
        "id": "kAVpwhIr8hgM"
      },
      "source": [
        "## **Neural Prophet**"
      ]
    },
    {
      "cell_type": "markdown",
      "metadata": {
        "id": "IGTp81nF8kC0"
      },
      "source": [
        "**Next we will use a model called Neural Prophet, built using PyTorch neural networks on top of the original Prophet model by facebook.**\n",
        "The procedure to make a model by using this algorithm will be very similar to the one seen for Prophet.\n",
        "\n"
      ]
    },
    {
      "cell_type": "code",
      "execution_count": null,
      "metadata": {
        "id": "-YPchbpp8esP"
      },
      "outputs": [],
      "source": [
        "m = NeuralProphet(\n",
        "    n_forecasts=forecast_window, #we forecast one week of data\n",
        "    n_lags=forecast_window,\n",
        "    n_changepoints=60, # tuning parameter\n",
        "    yearly_seasonality=False, # FALSE: we add a custom yearly seasonality\n",
        "    weekly_seasonality=False, # FALSE: we add a custom weekly seasonality\n",
        "    daily_seasonality=False, #Since it is daily data there is no daily seasonality\n",
        "    epochs=200,\n",
        "    learning_rate=1.0, # tuning parameter\n",
        ")"
      ]
    },
    {
      "cell_type": "code",
      "execution_count": null,
      "metadata": {
        "id": "dwKg288M8rNQ"
      },
      "outputs": [],
      "source": [
        "m.add_seasonality('weekly_custom', period = 7, fourier_order = 3)\n",
        "m.add_seasonality('yearly_custom', period = 365, fourier_order = 20)"
      ]
    },
    {
      "cell_type": "code",
      "execution_count": null,
      "metadata": {
        "id": "iJv1CY4p8wkV"
      },
      "outputs": [],
      "source": [
        "m.add_country_holidays(country_name='Canada')"
      ]
    },
    {
      "cell_type": "code",
      "execution_count": null,
      "metadata": {
        "id": "3g-yni8U8x-p"
      },
      "outputs": [],
      "source": [
        "metrics = m.fit(df_p, freq=\"D\")"
      ]
    },
    {
      "cell_type": "markdown",
      "metadata": {
        "id": "72pPmRfE82si"
      },
      "source": [
        "## **Neural Prophet Forecasting**"
      ]
    },
    {
      "cell_type": "code",
      "execution_count": null,
      "metadata": {
        "id": "DRTKBkqB86pE"
      },
      "outputs": [],
      "source": [
        "future = m.make_future_dataframe(df_p, periods=7, n_historic_predictions=len(df_p))\n",
        "forecast_df_nn = m.predict(future)"
      ]
    },
    {
      "cell_type": "code",
      "execution_count": null,
      "metadata": {
        "id": "L3atzREw89U8"
      },
      "outputs": [],
      "source": [
        "forecast_plot = m.plot(forecast_df_nn)\n",
        "plt.title(\"COVID19 new cases in Canada with forecasting by Neural Prophet\", fontsize=26)\n",
        "plt.xlabel(\"\")\n",
        "plt.ylabel(\"New cases\", fontsize=15)\n",
        "plt.show()"
      ]
    },
    {
      "cell_type": "code",
      "execution_count": null,
      "metadata": {
        "id": "AvPuim4i9Agz"
      },
      "outputs": [],
      "source": [
        "fig2 = m.plot_components(forecast_df_nn)"
      ]
    },
    {
      "cell_type": "markdown",
      "metadata": {
        "id": "BB4Lvi6c9HNx"
      },
      "source": [
        "The components are comparable to those obtained using Prophet."
      ]
    },
    {
      "cell_type": "code",
      "execution_count": null,
      "metadata": {
        "id": "tnW_c4Ax9LYh"
      },
      "outputs": [],
      "source": [
        "forecast_plot = m.plot(forecast_df_nn.iloc[-prediction_window:])\n",
        "plt.title(\"New COVID cases in Canada by Neural Prophet (last 2 weeks)\", fontsize=20)\n",
        "plt.xlabel(\"Date\")\n",
        "plt.ylabel(\"New cases\")\n",
        "plt.show()"
      ]
    },
    {
      "cell_type": "markdown",
      "metadata": {
        "id": "EK2QY6Jp9NKY"
      },
      "source": [
        "**We can see that there are 7 different yhat prediction columns as a consequence of the chosen n_lags parameter.**"
      ]
    },
    {
      "cell_type": "code",
      "execution_count": null,
      "metadata": {
        "id": "lxxNdxf29P4n"
      },
      "outputs": [],
      "source": [
        "for i in range(7):\n",
        "    col = 'yhat' + str(i+1)\n",
        "    mape_test = mape(forecast_df_nn.iloc[-window:-forecast_window][col],df_p.iloc[-prediction_window:]['y'])\n",
        "    rmse_test = mean_squared_error(forecast_df_nn.iloc[-window:-forecast_window][col],df_p.iloc[-prediction_window:]['y'], squared=False)\n",
        "    print('PROPHET RMSE {}: {:.0f} Cases'.format(i+1,rmse_test))\n",
        "    print('PROPHET MAPE {}: {:.1f} %'.format(i+1,mape_test))"
      ]
    },
    {
      "cell_type": "markdown",
      "metadata": {
        "id": "KWo19cVm9W5j"
      },
      "source": [
        "We will create a new 'yhat_avg' column to host an average prediction of the 7 'yhat' values."
      ]
    },
    {
      "cell_type": "code",
      "execution_count": null,
      "metadata": {
        "id": "wbCMd8Vt9Yyq"
      },
      "outputs": [],
      "source": [
        "forecast_df_nn['yhat_avg'] = forecast_df_nn[['yhat1', 'yhat2', 'yhat3', 'yhat4', 'yhat5', 'yhat6', 'yhat7']].mean(axis=1)"
      ]
    },
    {
      "cell_type": "code",
      "execution_count": null,
      "metadata": {
        "id": "zyBuauI19e3G"
      },
      "outputs": [],
      "source": [
        "plt.figure(figsize=(12,5))\n",
        "plt.title('COVID19 new cases in Canada with forecasting by Neural Prophet', fontsize=20)\n",
        "\n",
        "#Actual cases\n",
        "plt.plot(df[-prediction_window:].index, df[-prediction_window:]['new_cases'], label='Actual cases', marker='.')\n",
        "\n",
        "#Neural Prophet predicted cases\n",
        "plt.plot(forecast_df_nn[-window:]['ds'],forecast_df_nn[-window:]['yhat_avg'],color='purple',label='PROPHET-Forecast', marker='.')\n",
        "\n",
        "text = 'Today\\'s new cases : {:.0f}\\nTomorrows new cases : {:.0f}'.format(float(df['new_cases'][-1:]), forecast_df_nn[forecast_df['ds']==str(today+ pd.DateOffset(days=1))]['yhat_avg'].values[0])\n",
        "plt.text(today + pd.DateOffset(days=1), np.min(df[-prediction_window:]['new_cases']), text, bbox=dict(facecolor='white', alpha=1), fontsize=14)\n",
        "\n",
        "plt.axvline(today, linewidth=1.5, color='black')\n",
        "\n",
        "\n",
        "plt.text(today, np.max(forecast_df_nn[-prediction_window:]['yhat_avg'])-2500, 'Forecast->', bbox=dict(facecolor='white', alpha=1),fontsize=14)\n",
        "\n",
        "plt.legend(loc='upper left', fontsize=14, fancybox=True, shadow=True, frameon=True)\n",
        "plt.ylabel('New cases', fontsize=20)\n",
        "plt.xticks(forecast_df[-prediction_window-forecast_window:]['ds'], rotation=80, fontsize=14)\n",
        "plt.yticks(fontsize=15)\n",
        "\n",
        "plt.grid(visible=None, axis='x')\n",
        "plt.show()"
      ]
    },
    {
      "cell_type": "code",
      "execution_count": null,
      "metadata": {
        "id": "_YWc6Q319r6a"
      },
      "outputs": [],
      "source": [
        "mape_prophet_nn = mape(forecast_df_nn.iloc[-window:-forecast_window]['yhat_avg'],df_p.iloc[-prediction_window:]['y'])\n",
        "rmse_prophet_nn = mean_squared_error(forecast_df_nn.iloc[-window:-forecast_window]['yhat_avg'],df_p.iloc[-prediction_window:]['y'], squared=False)\n",
        "print('PROPHET RMSE : {:.0f} Cases'.format(rmse_prophet_nn))\n",
        "print('PROPHET MAPE : {:.1f} %:'.format(mape_prophet_nn))"
      ]
    },
    {
      "cell_type": "markdown",
      "metadata": {
        "id": "LTaGjPPK9jtO"
      },
      "source": [
        "Overall, the forecasted new cases are lower compared to those of Prophet.\n",
        "We can also notice that the number of predicted cases decrease a lot after the 25th and 26th of December, since both days are holidays."
      ]
    },
    {
      "cell_type": "markdown",
      "metadata": {
        "id": "0ubvldWl9u8B"
      },
      "source": [
        "### **SARIMAX**"
      ]
    },
    {
      "cell_type": "markdown",
      "metadata": {
        "id": "qCDWc6zq-aBX"
      },
      "source": [
        "**The third model we will develop is a SARIMAX model.**\n",
        "Before starting the modeling, we first check the time series' stationarity performing the Augmented Dickey Fuller test (ADF), also to understand the best value for the D parameter of the model (integrative term)."
      ]
    },
    {
      "cell_type": "code",
      "execution_count": null,
      "metadata": {
        "id": "NHNC8YSd9x39"
      },
      "outputs": [],
      "source": [
        "result=adfuller(df['new_cases'].dropna())\n",
        "print(f'ADF Statistics:{result[0]}')\n",
        "print(f'p-value:{result[1]}')"
      ]
    },
    {
      "cell_type": "markdown",
      "metadata": {
        "id": "eksFyYim-dO3"
      },
      "source": [
        "The p-value is higher than 0.05. This means that the time serie is non stationary with a confidence of 95%. Next we will check if with a one step differentiation, the time serie become stationary (in terms of a trendless time series)."
      ]
    },
    {
      "cell_type": "code",
      "execution_count": null,
      "metadata": {
        "id": "gpdCy-6n9z2O"
      },
      "outputs": [],
      "source": [
        "result=adfuller(df['new_cases'].diff().dropna())\n",
        "print(f'ADF Statistics:{result[0]}')\n",
        "print(f'p-value:{result[1]}')"
      ]
    },
    {
      "cell_type": "markdown",
      "metadata": {
        "id": "aBp5KD8T-g7R"
      },
      "source": [
        "After a 1-order difference the p-value is still not lower than 0.05."
      ]
    },
    {
      "cell_type": "code",
      "execution_count": null,
      "metadata": {
        "id": "UZSeXEDd90yM"
      },
      "outputs": [],
      "source": [
        "result=adfuller(df['new_cases'].diff().diff().dropna())\n",
        "print(f'ADF Statistics:{result[0]}')\n",
        "print(f'p-value:{result[1]}')"
      ]
    },
    {
      "cell_type": "markdown",
      "metadata": {
        "id": "PUzgmHmC-qr4"
      },
      "source": [
        "After a 2-order difference, the p value is stil not lower than 0.05. We should choose a value of d higher than 2 so.\n",
        "EDIT: by letting auto arima choose the d parameters, the algorithm chooses d=2."
      ]
    },
    {
      "cell_type": "markdown",
      "metadata": {
        "id": "Ch22VuU3-ssL"
      },
      "source": [
        "**ACF AND PACF**"
      ]
    },
    {
      "cell_type": "markdown",
      "metadata": {
        "id": "SxFHdsZ0-val"
      },
      "source": [
        "To have a better idea of possible the autoregressive parameter (p) and moving average parameter (q) of the SARIMAX model, we can check the auto-correlation function (ACF) and partial auto-correlation function (PACF).\n",
        "\n"
      ]
    },
    {
      "cell_type": "code",
      "execution_count": null,
      "metadata": {
        "id": "jMr6JgK592Hw"
      },
      "outputs": [],
      "source": [
        "fig, (ax1, ax2)=plt.subplots(2,1,figsize=(8,8))\n",
        "\n",
        "plot_acf(df['new_cases'],lags=30, zero=False, ax=ax1)\n",
        "plot_pacf(df['new_cases'],lags=30, zero=False, ax=ax2)\n",
        "plt.show()"
      ]
    },
    {
      "cell_type": "markdown",
      "metadata": {
        "id": "oCckQurp-4xl"
      },
      "source": [
        "The series looks indeed non stationary from these plots, and we cannot easily identify good values of p and q.\n",
        "For this reason we will use the convenient auto arima module to find good parameters for the sarimax model."
      ]
    },
    {
      "cell_type": "markdown",
      "metadata": {
        "id": "ZMAeTdMV-9zG"
      },
      "source": [
        "**AUTO ARIMA**"
      ]
    },
    {
      "cell_type": "code",
      "execution_count": null,
      "metadata": {
        "id": "fuQ0pDyf92-v"
      },
      "outputs": [],
      "source": [
        "results=pm.auto_arima(df['new_cases'], start_p=0, d=None, start_q=0, max_p=3, max_q=3,\n",
        "                      seasonal=True, m=7, D=None, test='adf', start_P=0, start_Q=0, max_P=3, max_Q=3,\n",
        "                      information_criterion='bic', trace=True, error_action='ignore',\n",
        "                      trend=None, exog=df['holiday'],with_intercept=False, stepwise=True)"
      ]
    },
    {
      "cell_type": "code",
      "execution_count": null,
      "metadata": {
        "id": "05tSvMu894GE"
      },
      "outputs": [],
      "source": [
        "model=SARIMAX(df['new_cases'], order=(3,2,3), seasonal_order=(0,1,0,7), exog = df['holiday'])\n",
        "results=model.fit()"
      ]
    },
    {
      "cell_type": "code",
      "execution_count": null,
      "metadata": {
        "id": "rr9WePI595NO"
      },
      "outputs": [],
      "source": [
        "results.summary()"
      ]
    },
    {
      "cell_type": "markdown",
      "metadata": {
        "id": "ndErE2S-_DxM"
      },
      "source": [
        "Warnings:\n",
        "[1] Covariance matrix calculated using the outer product of gradients (complex-step).\n",
        "[2] Covariance matrix is singular or near-singular, with condition number 9.04e+23. Standard errors may be unstable."
      ]
    },
    {
      "cell_type": "code",
      "execution_count": null,
      "metadata": {
        "id": "iQqXA8o496Mj"
      },
      "outputs": [],
      "source": [
        "results.plot_diagnostics(figsize=(8,8))\n",
        "plt.show()"
      ]
    },
    {
      "cell_type": "markdown",
      "metadata": {
        "id": "vqZ3KI8K_JIR"
      },
      "source": [
        "These plots indicate a good but improvable model. This is probably due to the high variability of the time series among the different waves.\n",
        "In particular we can see an outlier which degrades the fit: this is probably related to December 26th , when COVID cases dropped from 55k (dec 25th) to 25k."
      ]
    },
    {
      "cell_type": "markdown",
      "metadata": {
        "id": "nr40GHXA_MNP"
      },
      "source": [
        "## **SARIMAX Forecasting**"
      ]
    },
    {
      "cell_type": "markdown",
      "metadata": {
        "id": "B_D-j3PI_Px6"
      },
      "source": [
        "**SARIMAX Prediction**"
      ]
    },
    {
      "cell_type": "markdown",
      "metadata": {
        "id": "G3DelQVZ_Rj1"
      },
      "source": [
        "Our goal now is to create a dataframe which will host the model test predictions (last 3 weeks of data) and the forecast values (future 7 days).\n",
        "We start by creating the prediction dataset."
      ]
    },
    {
      "cell_type": "code",
      "execution_count": null,
      "metadata": {
        "id": "aaGOTQKW97Ts"
      },
      "outputs": [],
      "source": [
        "prediction = results.get_prediction(start=-prediction_window, exog = df['holiday'])\n",
        "mean_prediction = prediction.predicted_mean"
      ]
    },
    {
      "cell_type": "markdown",
      "metadata": {
        "id": "HVoXzjwQ_V48"
      },
      "source": [
        "Moreover, we also get the confidence intervals from the sarimax prediction"
      ]
    },
    {
      "cell_type": "code",
      "execution_count": null,
      "metadata": {
        "id": "Bd4AuDS098V1"
      },
      "outputs": [],
      "source": [
        "confi_int_p = prediction.conf_int()\n",
        "lower_limits_p = confi_int_p.iloc[:,0]\n",
        "upper_limits_p = confi_int_p.iloc[:,1]"
      ]
    },
    {
      "cell_type": "markdown",
      "metadata": {
        "id": "1ae8YFYY_X9u"
      },
      "source": [
        "Then we create a new dataframe which will include 3 columns: predicted value 'yhat' and the upper and lower values for yhat (confidence interval)\n",
        "\n"
      ]
    },
    {
      "cell_type": "code",
      "execution_count": null,
      "metadata": {
        "id": "SEYR_lhF9-Jh"
      },
      "outputs": [],
      "source": [
        "lower_today = np.full([1, prediction_window], np.nan).flatten() #empty list with length = 21 ( 3 weeks)\n",
        "upper_today = np.full([1, prediction_window], np.nan).flatten() #empty list with length = 21 ( 3 weeks)"
      ]
    },
    {
      "cell_type": "markdown",
      "metadata": {
        "id": "yJvDpjt__bIo"
      },
      "source": [
        "We also define the confidence interval for the prediction of today's new cases: if we dont do so, the following plot will have a 'gap' for the forecast value."
      ]
    },
    {
      "cell_type": "code",
      "execution_count": null,
      "metadata": {
        "id": "KB_rZWM6-AOF"
      },
      "outputs": [],
      "source": [
        "lower_today[-1] = confi_int_p.iloc[:,0][-1] # lower value for prediction of todays value\n",
        "upper_today[-1] = confi_int_p.iloc[:,1][-1] # upper value for prediction of todays value"
      ]
    },
    {
      "cell_type": "code",
      "execution_count": null,
      "metadata": {
        "id": "438HbSs9-EF6"
      },
      "outputs": [],
      "source": [
        "sarima_prediction = pd.DataFrame({'yhat':mean_prediction, 'y_lower':lower_today,'y_upper': upper_today})"
      ]
    },
    {
      "cell_type": "markdown",
      "metadata": {
        "id": "HH1cD-Mu_hKC"
      },
      "source": [
        "## **SARIMAX FORECAST**"
      ]
    },
    {
      "cell_type": "markdown",
      "metadata": {
        "id": "B9eNzumI_kpd"
      },
      "source": [
        "We will create a forecast dataframe similarly how we created the prediction dataframe."
      ]
    },
    {
      "cell_type": "code",
      "execution_count": null,
      "metadata": {
        "id": "HOVobMHu-EDa"
      },
      "outputs": [],
      "source": [
        "forecast = results.get_forecast(steps=forecast_window, exog = df['holiday'].iloc[-forecast_window:])\n",
        "mean_forecast=forecast.predicted_mean"
      ]
    },
    {
      "cell_type": "code",
      "execution_count": null,
      "metadata": {
        "id": "dMtz1V0--EBS"
      },
      "outputs": [],
      "source": [
        "#Confidence Intervals for forecasting\n",
        "confi_int_f=forecast.conf_int()\n",
        "lower_limits_f=confi_int_f.iloc[:,0]\n",
        "upper_limits_f=confi_int_f.iloc[:,1]"
      ]
    },
    {
      "cell_type": "code",
      "execution_count": null,
      "metadata": {
        "id": "vBDoqc7P-D-z"
      },
      "outputs": [],
      "source": [
        "sarima_forecast = pd.DataFrame({'yhat':mean_forecast, 'y_lower':lower_limits_f,'y_upper':upper_limits_f})"
      ]
    },
    {
      "cell_type": "markdown",
      "metadata": {
        "id": "pUKzqP7m_qZc"
      },
      "source": [
        "Finally we append the forecast dataframe to the prediction dataframe."
      ]
    },
    {
      "cell_type": "code",
      "execution_count": null,
      "metadata": {
        "id": "Bcq9B3hl-JPr"
      },
      "outputs": [],
      "source": [
        "sarima_results = sarima_prediction.append(sarima_forecast)"
      ]
    },
    {
      "cell_type": "code",
      "execution_count": null,
      "metadata": {
        "id": "Tnh9ZfNH-JMw"
      },
      "outputs": [],
      "source": [
        "plt.figure(figsize=(12,5))\n",
        "plt.title('COVID19 new cases in Canada with forecasting by SARIMAX', fontsize=20)\n",
        "\n",
        "\n",
        "#Actual cases\n",
        "plt.plot(df[-prediction_window:].index,df[-prediction_window:]['new_cases'], label='Actual cases', marker='.')\n",
        "\n",
        "#SARIMA\n",
        "plt.plot(sarima_results.index, sarima_results.yhat,color='red',label='SARIMAX', marker='.')\n",
        "plt.fill_between(sarima_results[-forecast_window-1:].index, sarima_results[-forecast_window-1:].y_lower, sarima_results[-forecast_window-1:].y_upper, color='red', alpha=0.1)\n",
        "\n",
        "text = 'Today\\'s new cases : {:.0f}\\nTomorrows new cases : {:.0f}'.format(float(df['new_cases'][-1:]),mean_forecast[0])\n",
        "plt.text(today + pd.DateOffset(days=1), np.min(df[-prediction_window:]['new_cases']), text, bbox=dict(facecolor='white', alpha=1), fontsize=14)\n",
        "\n",
        "\n",
        "plt.axvline(today, linewidth=1.5, color='black')\n",
        "plt.text(today, np.max(mean_forecast), 'Forecast->', bbox=dict(facecolor='white', alpha=1),fontsize=17)\n",
        "\n",
        "plt.legend(loc='upper left', fontsize=14, fancybox=True, shadow=True, frameon=True)\n",
        "plt.ylabel('New cases', fontsize=20)\n",
        "plt.xticks(forecast_df[-prediction_window-forecast_window:]['ds'], rotation=80, fontsize=14)\n",
        "plt.yticks(fontsize=15)\n",
        "plt.grid(visible=None, axis='x')\n",
        "plt.show()"
      ]
    },
    {
      "cell_type": "code",
      "execution_count": null,
      "metadata": {
        "id": "Sax5MmaA-JJ1"
      },
      "outputs": [],
      "source": [
        "mape_sarima= mape(df[-prediction_window:]['new_cases'], mean_prediction.values)\n",
        "rmse_sarima = mean_squared_error(df[-prediction_window:]['new_cases'], mean_prediction.values, squared=False)\n",
        "\n",
        "print('SARIMA RMSE: {:.0f} Cases'.format(rmse_sarima))\n",
        "print('SARIMA MAPE: {:.1f} %'.format(mape_sarima))"
      ]
    },
    {
      "cell_type": "markdown",
      "metadata": {
        "id": "Xuj_caUt_03x"
      },
      "source": [
        "**Results Summary**"
      ]
    },
    {
      "cell_type": "code",
      "execution_count": null,
      "metadata": {
        "id": "eruqfrLO-JES"
      },
      "outputs": [],
      "source": [
        "pd.DataFrame({'Model':['Prophet','Neural Prophet','SARIMA'],'MAPE': [mape_prophet,mape_prophet_nn,mape_sarima],'RMSE':[rmse_prophet,rmse_prophet_nn,rmse_sarima]}).set_index('Model')"
      ]
    },
    {
      "cell_type": "code",
      "execution_count": null,
      "metadata": {
        "id": "ePds6w_v-OpU"
      },
      "outputs": [],
      "source": [
        "plt.figure(figsize=(16,8))\n",
        "plt.title('COVID19 new cases in Canada with Forecasted cases by ML models', fontsize=28)\n",
        "#Actual cases\n",
        "plt.bar(df[-prediction_window:].index, df[-prediction_window:]['new_cases'], label='Actual cases', color='black', alpha=0.3)\n",
        "#PROPHET\n",
        "plt.plot(forecast_df[-window:]['ds'],forecast_df[-window:]['yhat'],color='blue',label='Prophet', marker='.')\n",
        "plt.fill_between(forecast_df[-forecast_window-1:]['ds'], forecast_df[-forecast_window-1:]['yhat_lower'],forecast_df[-forecast_window-1:]['yhat_upper'], color='blue', alpha=0.1)\n",
        "\n",
        "#NEURAL PROPHET\n",
        "plt.plot(forecast_df_nn[-window:]['ds'],forecast_df_nn[-window:]['yhat_avg'],color='green',label='Neural Prophet', marker='.')\n",
        "\n",
        "#SARIMA\n",
        "plt.plot(sarima_results.index, sarima_results.yhat,color='red',label='SARIMAX', marker='.')\n",
        "plt.fill_between(sarima_results[-forecast_window-1:].index, sarima_results[-forecast_window-1:].y_lower, sarima_results[-forecast_window-1:].y_upper, color='red', alpha=0.1)\n",
        "\n",
        "\n",
        "text = 'Today\\'s new cases : {:.0f}\\nTomorrow\\'s new cases:\\nProphet : {:.0f}\\nNeural Prophet : {:.0f}\\nSARIMAX : {:.0f}'.format(float(df['new_cases'][-1:]),forecast_df[forecast_df['ds']==str(tomorrow)]['yhat'].values[0],forecast_df_nn[forecast_df_nn['ds']==str(tomorrow)]['yhat_avg'].values[0],mean_forecast[0])\n",
        "plt.text(today - pd.DateOffset(days=21), np.max(df[-prediction_window:]['new_cases'])-25000, text, bbox=dict(facecolor='white', alpha=1), fontsize=20)\n",
        "\n",
        "plt.axvline(today, linewidth=4, color='black')\n",
        "plt.text(today - pd.DateOffset(days=1), np.max(forecast_df.iloc[-forecast_window:]['yhat'])-30000, 'Today', bbox=dict(facecolor='white', alpha=1), fontsize=20)\n",
        "plt.text(today , np.max(forecast_df.iloc[-forecast_window:]['yhat']), 'Forecast->', bbox=dict(facecolor='white', alpha=1),fontsize=20)\n",
        "plt.legend(loc='upper left', fontsize=16, bbox_to_anchor=(0.01, 0.99), fancybox=True, shadow=True, frameon=True)\n",
        "plt.ylabel('New cases', fontsize=20)\n",
        "plt.xticks(forecast_df[-prediction_window-forecast_window:]['ds'], rotation=80, fontsize=14)\n",
        "plt.yticks(fontsize=15)\n",
        "plt.grid(visible=None, axis='x')\n",
        "\n",
        "plt.show()"
      ]
    },
    {
      "cell_type": "code",
      "execution_count": null,
      "metadata": {
        "id": "e5F-Lz71-Omk"
      },
      "outputs": [],
      "source": [
        "print('Today\\'s new cases : {:.0f}'.format(float(df['new_cases'][-1:])))\n",
        "print('Tomorrows new cases according to SARIMAX : {:.0f}'.format(mean_forecast[0]))\n",
        "print('Tomorrows new cases according to PROPHET : {:.0f}'.format(forecast_df[forecast_df['ds']==str(tomorrow)]['yhat'].values[0]))\n",
        "print('Tomorrows new cases according to Neural PROPHET : {:.0f}'.format(forecast_df_nn[forecast_df_nn['ds']==str(tomorrow)]['yhat_avg'].values[0]))"
      ]
    },
    {
      "cell_type": "markdown",
      "metadata": {
        "id": "kbhPwhDZ_8Qo"
      },
      "source": [
        "**Overall, we can see that Neural Prophet and SARIMAX predict and forecast similar values, which are lower compared to those predicted and forecasted by Prophet.**"
      ]
    },
    {
      "cell_type": "markdown",
      "metadata": {
        "id": "87xCy8CHABt2"
      },
      "source": [
        "Finally, we will create a final dataframe that will host the average prediction among the three models."
      ]
    },
    {
      "cell_type": "code",
      "execution_count": null,
      "metadata": {
        "id": "sSJSuHPt-Ojr"
      },
      "outputs": [],
      "source": [
        "df_final = pd.DataFrame({'date':forecast_df_nn[-window:]['ds'], 'y_p':forecast_df[-window:]['yhat'], 'y_p_nn':forecast_df_nn[-window:]['yhat_avg'], 'y_s':sarima_results['yhat'].values})"
      ]
    },
    {
      "cell_type": "code",
      "execution_count": null,
      "metadata": {
        "id": "DcrZUUci-D8G"
      },
      "outputs": [],
      "source": [
        "df_final = df_final.set_index('date')"
      ]
    },
    {
      "cell_type": "code",
      "execution_count": null,
      "metadata": {
        "id": "2Qmivviy-Uro"
      },
      "outputs": [],
      "source": [
        "df_final['y_avg'] = df_final.mean(axis=1)"
      ]
    },
    {
      "cell_type": "code",
      "execution_count": null,
      "metadata": {
        "id": "ZnIGZMjX-Upm"
      },
      "outputs": [],
      "source": [
        "plt.figure(figsize=(15,6))\n",
        "plt.title('COVID19 new cases in Canada with AVG Forecasted cases', fontsize=30)\n",
        "#Actual cases\n",
        "plt.bar(df[-prediction_window:].index, df[-prediction_window:]['new_cases'], label='Actual cases', color='black',alpha=1)\n",
        "\n",
        "#AVG Forecast\n",
        "plt.bar(df_final.index, df_final.y_avg,label='AVG cases by ML models', color='lightblue',alpha=0.9)\n",
        "\n",
        "text = 'New Cases:\\nToday: {:.0f}\\nTomorrow {:.0f}'.format(float(df['new_cases'][-1:]),df_final[-forecast_window:]['y_avg'].values[0])\n",
        "plt.text(today + pd.DateOffset(days=3), 4000, text, bbox=dict(facecolor='white', alpha=1), fontsize=20)\n",
        "\n",
        "plt.axvline(today, linewidth=1.5, color='red')\n",
        "plt.text(today - pd.DateOffset(days=1), np.max(df_final['y_avg'])-20000, 'Today', bbox=dict(facecolor='white', alpha=1), fontsize=17)\n",
        "plt.text(today - pd.DateOffset(days=1), np.max(df_final['y_avg'])-4000, 'Forecast->', bbox=dict(facecolor='white', alpha=1),fontsize=22)\n",
        "plt.legend(loc='upper left', fontsize=18,  fancybox=True, shadow=True, frameon=True)\n",
        "plt.ylabel('New cases', fontsize=20)\n",
        "plt.xticks(forecast_df[-prediction_window-forecast_window:]['ds'], rotation=80, fontsize=14)\n",
        "plt.yticks(fontsize=15)\n",
        "plt.grid(visible=None, axis='x')\n",
        "\n",
        "plt.show()"
      ]
    }
  ],
  "metadata": {
    "colab": {
      "collapsed_sections": [
        "ACbH7qpLoQ6j",
        "HVV9ASgaoaQX",
        "p0mPOZnGpGMu",
        "mrc1DlSXphgp"
      ],
      "provenance": []
    },
    "kernelspec": {
      "display_name": "Python 3",
      "name": "python3"
    },
    "language_info": {
      "name": "python"
    }
  },
  "nbformat": 4,
  "nbformat_minor": 0
}
